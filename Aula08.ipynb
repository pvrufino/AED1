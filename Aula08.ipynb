{
 "cells": [
  {
   "cell_type": "code",
   "execution_count": 7,
   "id": "e155f360-328e-4b4c-bb38-69ffafc48960",
   "metadata": {},
   "outputs": [
    {
     "name": "stdout",
     "output_type": "stream",
     "text": [
      "--- Jogo de Adivinhação v1.0 ---\n",
      "Eu pensei em um número entre 1 e 100. Tente adivinhar!\n"
     ]
    },
    {
     "name": "stdin",
     "output_type": "stream",
     "text": [
      "Qual o seu palpite?  5\n"
     ]
    },
    {
     "name": "stdout",
     "output_type": "stream",
     "text": [
      "Muito baixo! Tente um número maior.\n"
     ]
    },
    {
     "name": "stdin",
     "output_type": "stream",
     "text": [
      "Qual o seu palpite?  50\n"
     ]
    },
    {
     "name": "stdout",
     "output_type": "stream",
     "text": [
      "Muito baixo! Tente um número maior.\n"
     ]
    },
    {
     "name": "stdin",
     "output_type": "stream",
     "text": [
      "Qual o seu palpite?  60\n"
     ]
    },
    {
     "name": "stdout",
     "output_type": "stream",
     "text": [
      "Muito baixo! Tente um número maior.\n"
     ]
    },
    {
     "name": "stdin",
     "output_type": "stream",
     "text": [
      "Qual o seu palpite?  80\n"
     ]
    },
    {
     "name": "stdout",
     "output_type": "stream",
     "text": [
      "Muito alto! Tente um número menor.\n"
     ]
    },
    {
     "name": "stdin",
     "output_type": "stream",
     "text": [
      "Qual o seu palpite?  70\n"
     ]
    },
    {
     "name": "stdout",
     "output_type": "stream",
     "text": [
      "Muito alto! Tente um número menor.\n"
     ]
    },
    {
     "name": "stdin",
     "output_type": "stream",
     "text": [
      "Qual o seu palpite?  65\n"
     ]
    },
    {
     "name": "stdout",
     "output_type": "stream",
     "text": [
      "Muito alto! Tente um número menor.\n"
     ]
    },
    {
     "name": "stdin",
     "output_type": "stream",
     "text": [
      "Qual o seu palpite?  62\n"
     ]
    },
    {
     "name": "stdout",
     "output_type": "stream",
     "text": [
      "Muito baixo! Tente um número maior.\n"
     ]
    },
    {
     "name": "stdin",
     "output_type": "stream",
     "text": [
      "Qual o seu palpite?  63\n"
     ]
    },
    {
     "name": "stdout",
     "output_type": "stream",
     "text": [
      "Parabéns! Você acertou! O número era 63.\n",
      "--- Fim de Jogo ---\n"
     ]
    }
   ],
   "source": [
    "#resposta Gemini\n",
    "\n",
    "# Importa a função para gerar números aleatórios\n",
    "from random import randint\n",
    "\n",
    "# --- Passo 1: Sortear um número secreto ---\n",
    "# O número a ser adivinhado será um inteiro entre 1 e 100.\n",
    "numero_secreto = randint(1, 100)\n",
    "palpite = 0 # Inicializamos a variável palpite com um valor que não seja o secreto\n",
    "\n",
    "print(\"--- Jogo de Adivinhação v1.0 ---\")\n",
    "print(\"Eu pensei em um número entre 1 e 100. Tente adivinhar!\")\n",
    "\n",
    "# --- Passo 5: Repetir enquanto o usuário não acertar ---\n",
    "# O laço continua enquanto o palpite do usuário for diferente do número secreto.\n",
    "while palpite != numero_secreto:\n",
    "\n",
    "    # --- Passo 2: Pedir um palpite ao usuário ---\n",
    "    # Usamos int() para converter o texto digitado (string) em um número inteiro.\n",
    "    palpite_str = input(\"Qual o seu palpite? \")\n",
    "    \n",
    "    # É uma boa prática verificar se o usuário realmente digitou um número\n",
    "    if palpite_str.isdigit():\n",
    "        palpite = int(palpite_str)\n",
    "    else:\n",
    "        print(\"Por favor, digite um número válido.\")\n",
    "        continue # Pula para a próxima iteração do laço\n",
    "\n",
    "    # --- Passo 3: Comparar o palpite com o número secreto ---\n",
    "    # --- Passo 4: Informar o resultado da comparação ---\n",
    "    if palpite == numero_secreto:\n",
    "        # --- Passo 6: Encerrar o jogo quando acertar ---\n",
    "        # A condição do 'while' se tornará falsa, e o loop terminará.\n",
    "        print(f\"Parabéns! Você acertou! O número era {numero_secreto}.\")\n",
    "    elif palpite < numero_secreto:\n",
    "        print(\"Muito baixo! Tente um número maior.\")\n",
    "    else: # Se não é igual nem menor, só pode ser maior\n",
    "        print(\"Muito alto! Tente um número menor.\")\n",
    "\n",
    "print(\"--- Fim de Jogo ---\")"
   ]
  },
  {
   "cell_type": "code",
   "execution_count": null,
   "id": "80ca562a-06ec-447c-83d9-c0393f4b781e",
   "metadata": {},
   "outputs": [
    {
     "name": "stdin",
     "output_type": "stream",
     "text": [
      "Digite um palpite entre <1 e 100>:  50\n"
     ]
    },
    {
     "name": "stdout",
     "output_type": "stream",
     "text": [
      "Seu palpite foi menor. Tente um número menor!\n",
      "Seu palpite está FRIO\n"
     ]
    },
    {
     "name": "stdin",
     "output_type": "stream",
     "text": [
      "Digite um palpite entre <1 e 100>:  25\n"
     ]
    },
    {
     "name": "stdout",
     "output_type": "stream",
     "text": [
      "Seu palpite foi menor. Tente um número maior!\n",
      "Seu palpite está FRIO\n"
     ]
    },
    {
     "name": "stdin",
     "output_type": "stream",
     "text": [
      "Digite um palpite entre <1 e 100>:  40\n"
     ]
    },
    {
     "name": "stdout",
     "output_type": "stream",
     "text": [
      "Seu palpite foi menor. Tente um número maior!\n",
      "Seu palpite está QUENTE\n"
     ]
    },
    {
     "name": "stdin",
     "output_type": "stream",
     "text": [
      "Digite um palpite entre <1 e 100>:  45\n"
     ]
    },
    {
     "name": "stdout",
     "output_type": "stream",
     "text": [
      "Seu palpite foi menor. Tente um número menor!\n",
      "Seu palpite está QUENTE\n"
     ]
    },
    {
     "name": "stdin",
     "output_type": "stream",
     "text": [
      "Digite um palpite entre <1 e 100>:  43\n"
     ]
    },
    {
     "name": "stdout",
     "output_type": "stream",
     "text": [
      "Seu palpite foi menor. Tente um número maior!\n",
      "Seu palpite está QUENTE\n"
     ]
    },
    {
     "name": "stdin",
     "output_type": "stream",
     "text": [
      "Digite um palpite entre <1 e 100>:  44\n"
     ]
    },
    {
     "name": "stdout",
     "output_type": "stream",
     "text": [
      "Parabéns! Você acertou\n"
     ]
    },
    {
     "name": "stdin",
     "output_type": "stream",
     "text": [
      "Deseja Continuar? S/N: n\n"
     ]
    }
   ],
   "source": [
    "# Obter um número aleatório\n",
    "# Carregar a função randint() do pacote random\n",
    "from random import randint\n",
    "while True:\n",
    "    # Carregar em uma variável o valor aleatório\n",
    "    n = randint(1, 50)\n",
    "    \n",
    "    # Contador de tentativas\n",
    "    tentativas = 0\n",
    "    \n",
    "    while True: \n",
    "    \n",
    "        # Solicita um palpite para o usuário\n",
    "        p = int(input(\"Digite um palpite entre <1 e 100>: \"))\n",
    "        # Compara o palpite com o número sorteado (aleatório)\n",
    "        d = abs(p - n)\n",
    "        if d > 5:\n",
    "            qf = \"FRIO\"\n",
    "        else:\n",
    "            qf = \"QUENTE\"\n",
    "        if p == n:\n",
    "            print(\"Parabéns! Você acertou\"\"\")\n",
    "            break\n",
    "        elif p > n:\n",
    "            print(\"Seu palpite foi menor. Tente um número menor!\")\n",
    "        else:\n",
    "            print(\"Seu palpite foi menor. Tente um número maior!\")\n",
    "        print(\"Seu palpite está\", qf)\n",
    "    sn = input(\"Deseja Continuar? S/N:\")\n",
    "    if sn == \"N\":\n",
    "        break\n",
    "\n",
    "  "
   ]
  },
  {
   "cell_type": "code",
   "execution_count": null,
   "id": "b6676e51-81b2-4708-bda1-5e2f1f1f3a03",
   "metadata": {},
   "outputs": [],
   "source": []
  }
 ],
 "metadata": {
  "kernelspec": {
   "display_name": "Python [conda env:base] *",
   "language": "python",
   "name": "conda-base-py"
  },
  "language_info": {
   "codemirror_mode": {
    "name": "ipython",
    "version": 3
   },
   "file_extension": ".py",
   "mimetype": "text/x-python",
   "name": "python",
   "nbconvert_exporter": "python",
   "pygments_lexer": "ipython3",
   "version": "3.12.7"
  }
 },
 "nbformat": 4,
 "nbformat_minor": 5
}
