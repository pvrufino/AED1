{
 "cells": [
  {
   "cell_type": "code",
   "execution_count": 24,
   "id": "09e0f9a9-e81b-48eb-bb82-9bd941e609f3",
   "metadata": {},
   "outputs": [
    {
     "name": "stdin",
     "output_type": "stream",
     "text": [
      "Entre com uma idade:  3\n",
      "Entre com uma idade:  4\n",
      "Entre com uma idade:  5\n",
      "Entre com uma idade:  -1\n"
     ]
    },
    {
     "name": "stdout",
     "output_type": "stream",
     "text": [
      "Total de idades digitadas: 3\n",
      "A média de idades é: 4.0\n"
     ]
    }
   ],
   "source": [
    "# Resolução proposta no slide\n",
    "\n",
    "lista_idades = []\n",
    "while True:\n",
    "    idade = int(input(\"Entre com uma idade: \"))\n",
    "    if idade != -1:\n",
    "        lista_idades.append(idade)\n",
    "    else:\n",
    "        break\n",
    "\n",
    "tupla_idades = tuple(lista_idades)\n",
    "total = sum(tupla_idades)\n",
    "qtd = len(tupla_idades)\n",
    "media = total / qtd\n",
    "print(f\"Total de idades digitadas: {qtd}\")\n",
    "print(f\"A média de idades é: {media}\")"
   ]
  },
  {
   "cell_type": "code",
   "execution_count": 30,
   "id": "1a0e9676-02ab-416c-9b13-c51da63fd414",
   "metadata": {},
   "outputs": [
    {
     "name": "stdin",
     "output_type": "stream",
     "text": [
      "Entre com uma idade <-1 p/ sair>:  3\n",
      "Entre com uma idade <-1 p/ sair>:  4\n",
      "Entre com uma idade <-1 p/ sair>:  5\n",
      "Entre com uma idade <-1 p/ sair>:  -1\n"
     ]
    },
    {
     "name": "stdout",
     "output_type": "stream",
     "text": [
      " Quantidade de idades digitadas 3\n",
      " Média das idades: 4.0\n"
     ]
    }
   ],
   "source": [
    "# Resolução criada em sala\n",
    "\n",
    "lista = []\n",
    "while True:\n",
    "    idade = int(input(\"Entre com uma idade <-1 p/ sair>: \"))\n",
    "    if idade ==-1:\n",
    "        break\n",
    "    lista.append(idade)\n",
    "qtd = len(tupla)\n",
    "soma = 0\n",
    "for i in tupla:\n",
    "    soma = soma+ i\n",
    "media = soma / qtd\n",
    "print (f\" Quantidade de idades digitadas {qtd}\")\n",
    "print (f\" Média das idades: {media}\")"
   ]
  },
  {
   "cell_type": "code",
   "execution_count": null,
   "id": "970866da-5320-4bd9-b1f1-2cf87611ee77",
   "metadata": {},
   "outputs": [],
   "source": []
  }
 ],
 "metadata": {
  "kernelspec": {
   "display_name": "Python [conda env:base] *",
   "language": "python",
   "name": "conda-base-py"
  },
  "language_info": {
   "codemirror_mode": {
    "name": "ipython",
    "version": 3
   },
   "file_extension": ".py",
   "mimetype": "text/x-python",
   "name": "python",
   "nbconvert_exporter": "python",
   "pygments_lexer": "ipython3",
   "version": "3.12.7"
  }
 },
 "nbformat": 4,
 "nbformat_minor": 5
}
