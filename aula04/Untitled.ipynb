{
 "cells": [
  {
   "cell_type": "code",
   "execution_count": 32,
   "id": "e7ba25ea-bb49-4e44-b4cf-47958660b330",
   "metadata": {},
   "outputs": [],
   "source": [
    "from math import sqrt"
   ]
  },
  {
   "cell_type": "code",
   "execution_count": 64,
   "id": "c01d9978-5311-44f3-b008-43bca2d0a11e",
   "metadata": {},
   "outputs": [],
   "source": [
    "x = 2"
   ]
  },
  {
   "cell_type": "code",
   "execution_count": 66,
   "id": "a8a55eb6-4c15-4ea8-8f63-285906146d2a",
   "metadata": {},
   "outputs": [
    {
     "ename": "SyntaxError",
     "evalue": "incomplete input (4085369719.py, line 1)",
     "output_type": "error",
     "traceback": [
      "\u001b[1;36m  Cell \u001b[1;32mIn[66], line 1\u001b[1;36m\u001b[0m\n\u001b[1;33m    y=(((2 * (x ** 2 - 3 * x ** (x + 1) ) / 2) + (sqrt(x + 1) / x) ) / (2 * x)\u001b[0m\n\u001b[1;37m                                                                              ^\u001b[0m\n\u001b[1;31mSyntaxError\u001b[0m\u001b[1;31m:\u001b[0m incomplete input\n"
     ]
    }
   ],
   "source": [
    "y=(((2 * (x ** 2 - 3 * x ** (x + 1) ) / 2) + (sqrt(x + 1) / x) ) / (2 * x)"
   ]
  },
  {
   "cell_type": "code",
   "execution_count": 68,
   "id": "520c7466-091a-4616-a3fc-8142899a2d5b",
   "metadata": {},
   "outputs": [
    {
     "name": "stdout",
     "output_type": "stream",
     "text": [
      "-1.7834936490538904\n"
     ]
    }
   ],
   "source": [
    "print(y)"
   ]
  },
  {
   "cell_type": "code",
   "execution_count": null,
   "id": "be9e3907-f8bb-4bd2-ae1f-510ec73e35bb",
   "metadata": {},
   "outputs": [],
   "source": [
    "r = int(input(\"Digite o valor 1:\"))\n",
    "s = int(input(\"Digite o valor 2:\"))"
   ]
  },
  {
   "cell_type": "code",
   "execution_count": 62,
   "id": "6092c4f9-f30b-4516-9211-aab9372587c6",
   "metadata": {},
   "outputs": [
    {
     "name": "stdout",
     "output_type": "stream",
     "text": [
      "5\n"
     ]
    }
   ],
   "source": [
    "print (r+s)"
   ]
  },
  {
   "cell_type": "code",
   "execution_count": null,
   "id": "81ec5569-44db-4bb9-97ce-62912b1b3724",
   "metadata": {},
   "outputs": [],
   "source": []
  }
 ],
 "metadata": {
  "kernelspec": {
   "display_name": "Python [conda env:base] *",
   "language": "python",
   "name": "conda-base-py"
  },
  "language_info": {
   "codemirror_mode": {
    "name": "ipython",
    "version": 3
   },
   "file_extension": ".py",
   "mimetype": "text/x-python",
   "name": "python",
   "nbconvert_exporter": "python",
   "pygments_lexer": "ipython3",
   "version": "3.12.7"
  }
 },
 "nbformat": 4,
 "nbformat_minor": 5
}
