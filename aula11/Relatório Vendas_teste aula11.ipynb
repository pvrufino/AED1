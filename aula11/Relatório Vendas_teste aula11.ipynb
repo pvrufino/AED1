{
 "cells": [
  {
   "cell_type": "code",
   "execution_count": 9,
   "id": "df2b29c2-5064-4d84-9ba1-9b248cc5ef10",
   "metadata": {},
   "outputs": [
    {
     "name": "stdout",
     "output_type": "stream",
     "text": [
      "Total de vendas em agosto: R$52810\n",
      "Semana 1: R$12020\n",
      "Semana 2: R$13610\n",
      "Semana 3: R$12700\n",
      "Semana 4: R$14480\n"
     ]
    }
   ],
   "source": [
    "vendas_agosto = {\n",
    "    \"04/08/2025\": 2350,\n",
    "    \"05/08/2025\": 1980,\n",
    "    \"06/08/2025\": 2540,\n",
    "    \"07/08/2025\": 2100,\n",
    "    \"08/08/2025\": 3050,\n",
    "    \"11/08/2025\": 2650,\n",
    "    \"12/08/2025\": 2180,\n",
    "    \"13/08/2025\": 2760,\n",
    "    \"14/08/2025\": 2920,\n",
    "    \"15/08/2025\": 3100,\n",
    "    \"18/08/2025\": 2300,\n",
    "    \"19/08/2025\": 2430,\n",
    "    \"20/08/2025\": 2210,\n",
    "    \"21/08/2025\": 2790,\n",
    "    \"22/08/2025\": 2970,\n",
    "    \"25/08/2025\": 3100,\n",
    "    \"26/08/2025\": 2880,\n",
    "    \"27/08/2025\": 2600,\n",
    "    \"28/08/2025\": 2500,\n",
    "    \"29/08/2025\": 3400\n",
    "}\n",
    "\n",
    "total_mes = sum(vendas_agosto.values())\n",
    "print(f\"Total de vendas em agosto: R${total_mes}\")\n",
    "\n",
    "semanas = {\n",
    "    \"Semana 1\": [\"04/08/2025\", \"05/08/2025\", \"06/08/2025\", \"07/08/2025\", \"08/08/2025\"],\n",
    "    \"Semana 2\": [\"11/08/2025\", \"12/08/2025\", \"13/08/2025\", \"14/08/2025\", \"15/08/2025\"],\n",
    "    \"Semana 3\": [\"18/08/2025\", \"19/08/2025\", \"20/08/2025\", \"21/08/2025\", \"22/08/2025\"],\n",
    "    \"Semana 4\": [\"25/08/2025\", \"26/08/2025\", \"27/08/2025\", \"28/08/2025\", \"29/08/2025\"]\n",
    "}\n",
    "\n",
    "for nome_semana, dias in semanas.items():\n",
    "    total_semana = sum(vendas_agosto[dia] for dia in dias)\n",
    "    print(f\"{nome_semana}: R${total_semana}\")\n",
    "\n",
    "\n"
   ]
  },
  {
   "cell_type": "code",
   "execution_count": 15,
   "id": "38be5beb-06ad-47b0-b3d7-2ddf3b75b947",
   "metadata": {},
   "outputs": [
    {
     "name": "stdout",
     "output_type": "stream",
     "text": [
      "Média de vendas em agosto: R$2640.5\n"
     ]
    }
   ],
   "source": [
    "media_mes = total_mes / 20\n",
    "print(f\"Média de vendas em agosto: R${media_mes}\")"
   ]
  },
  {
   "cell_type": "code",
   "execution_count": 17,
   "id": "c75aff61-cb96-4bd7-9730-aec44aee9c01",
   "metadata": {},
   "outputs": [
    {
     "name": "stdout",
     "output_type": "stream",
     "text": [
      "O dia com maior venda foi 29/08/2025 com R$3400\n"
     ]
    }
   ],
   "source": [
    "dia_maior_venda = max(vendas_agosto, key=vendas_agosto.get)\n",
    "valor_maior_venda = vendas_agosto[dia_maior_venda]\n",
    "\n",
    "print(f\"O dia com maior venda foi {dia_maior_venda} com R${valor_maior_venda}\")"
   ]
  },
  {
   "cell_type": "code",
   "execution_count": 21,
   "id": "57a82bc4-d5c9-44ee-a44c-05ec164253d3",
   "metadata": {},
   "outputs": [
    {
     "name": "stdout",
     "output_type": "stream",
     "text": [
      "O dia com menor venda foi 05/08/2025 com R$1980\n"
     ]
    }
   ],
   "source": [
    "dia_menor_venda = min(vendas_agosto, key=vendas_agosto.get)\n",
    "valor_menor_venda = vendas_agosto[dia_menor_venda]\n",
    "\n",
    "print(f\"O dia com menor venda foi {dia_menor_venda} com R${valor_menor_venda}\")"
   ]
  },
  {
   "cell_type": "code",
   "execution_count": 191,
   "id": "aebf1e7b-1f9c-4b55-8519-f2e62d67c85b",
   "metadata": {},
   "outputs": [
    {
     "name": "stdout",
     "output_type": "stream",
     "text": [
      "================================================================================\n",
      "                    Relatório Mensal de Vendas | Agosto/2025\n",
      "================================================================================\n",
      "\n",
      " -> Total do mês: R$52810\n",
      "\n",
      " -> Total de vendas Semana 1: R$12020\n",
      " -> Total de vendas Semana 2: R$13610\n",
      " -> Total de vendas Semana 3: R$12700\n",
      " -> Total de vendas Semana 4: R$14480\n",
      "\n",
      " -> A média de vendas diária foi de 2640.5\n",
      "\n",
      " -> O dia com maior venda foi 29/08/2025 com R$3400\n",
      "\n",
      " -> O dia com menor venda foi 05/08/2025 com R$1980\n",
      "\n",
      " -> O pico de venda foi no dia 29/08/2025 sendo 28.76% acima da média diária.\n",
      "\n",
      "--------------------------------------------------------------------------------\n",
      "                                                Paulo Rufino - Fatec Votorantim\n",
      "================================================================================\n"
     ]
    }
   ],
   "source": [
    "print(\"=\"*80)\n",
    "print(f\"                    Relatório Mensal de Vendas | Agosto/2025\")\n",
    "print(\"=\"*80)\n",
    "\n",
    "print(f\"\\n -> Total do mês: R${total_mes}\\n\")\n",
    "\n",
    "for nome_semana, dias in semanas.items():\n",
    "    total_semana = sum(vendas_agosto[dia] for dia in dias)\n",
    "    print(f\" -> Total de vendas {nome_semana}: R${total_semana}\")\n",
    "\n",
    "print(f\"\\n -> A média de vendas diária foi de {media_mes}\")\n",
    "\n",
    "print(f\"\\n -> O dia com maior venda foi {dia_maior_venda} com R${valor_maior_venda}\")\n",
    "\n",
    "print(f\"\\n -> O dia com menor venda foi {dia_menor_venda} com R${valor_menor_venda}\")\n",
    "\n",
    "diferenca_percentual = ((valor_maior_venda - media_mes) / media_mes) * 100\n",
    "\n",
    "print(f\"\\n -> O pico de venda foi no dia {dia_maior_venda} sendo {diferenca_percentual:.2f}% acima da média diária.\\n\")\n",
    "\n",
    "print(\"-\"*80)\n",
    "print(\"                                                Paulo Rufino - Fatec Votorantim\")\n",
    "print(\"=\"*80)\n"
   ]
  },
  {
   "cell_type": "code",
   "execution_count": null,
   "id": "805bbd9c-cb63-42d4-8d82-cf274053b59a",
   "metadata": {},
   "outputs": [],
   "source": []
  }
 ],
 "metadata": {
  "kernelspec": {
   "display_name": "Python [conda env:base] *",
   "language": "python",
   "name": "conda-base-py"
  },
  "language_info": {
   "codemirror_mode": {
    "name": "ipython",
    "version": 3
   },
   "file_extension": ".py",
   "mimetype": "text/x-python",
   "name": "python",
   "nbconvert_exporter": "python",
   "pygments_lexer": "ipython3",
   "version": "3.12.7"
  }
 },
 "nbformat": 4,
 "nbformat_minor": 5
}
