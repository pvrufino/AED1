{
 "cells": [
  {
   "cell_type": "code",
   "execution_count": 24,
   "id": "f6cf1266-8b41-43ae-b132-d1c9f64ac698",
   "metadata": {},
   "outputs": [
    {
     "name": "stdin",
     "output_type": "stream",
     "text": [
      "Digite a sua idade 17\n"
     ]
    }
   ],
   "source": [
    "idade = int(input(\"Digite a sua idade\"))"
   ]
  },
  {
   "cell_type": "code",
   "execution_count": 14,
   "id": "59f4f828-6e2b-41e0-9e9b-d020c640d8f9",
   "metadata": {},
   "outputs": [
    {
     "data": {
      "text/plain": [
       "int"
      ]
     },
     "execution_count": 14,
     "metadata": {},
     "output_type": "execute_result"
    }
   ],
   "source": [
    "type(idade)"
   ]
  },
  {
   "cell_type": "code",
   "execution_count": 26,
   "id": "ad4a395e-6a87-4a8c-a9eb-2f64cd6356e4",
   "metadata": {},
   "outputs": [
    {
     "name": "stdout",
     "output_type": "stream",
     "text": [
      "Espere mais um pouco!\n",
      "Fim!\n"
     ]
    }
   ],
   "source": [
    "if idade >= 18:\n",
    "    print(\"Você já é maior de idade!\")\n",
    "else:\n",
    "    print(\"Espere mais um pouco!\")\n",
    "print (\"Fim!\")"
   ]
  },
  {
   "cell_type": "code",
   "execution_count": 50,
   "id": "44cefb1b-93dc-45e5-adbb-48f15cea8518",
   "metadata": {},
   "outputs": [
    {
     "name": "stdin",
     "output_type": "stream",
     "text": [
      "Digita a nota1: 3.7\n",
      "Digite a nota2: 6.8\n"
     ]
    },
    {
     "name": "stdout",
     "output_type": "stream",
     "text": [
      "A média foi: 5.25\n",
      "Reprovado(a)!!\n"
     ]
    }
   ],
   "source": [
    "nota1 = float(input(\"Digita a nota1:\"))\n",
    "nota2 = float(input(\"Digite a nota2:\"))\n",
    "media = (nota1 + nota2) / 2\n",
    "print(\"A média foi:\", media)\n",
    "if media >= 6:\n",
    "    print(\"Aprovado(a)!!\")\n",
    "else:\n",
    "    print(\"Reprovado(a)!!\")\n"
   ]
  },
  {
   "cell_type": "code",
   "execution_count": 60,
   "id": "f9ae895f-6ba9-483c-ae82-4da3f1f10ab3",
   "metadata": {},
   "outputs": [
    {
     "name": "stdin",
     "output_type": "stream",
     "text": [
      "Digite um número: 2\n"
     ]
    },
    {
     "name": "stdout",
     "output_type": "stream",
     "text": [
      "O número é positivo\n",
      "Fim\n"
     ]
    }
   ],
   "source": [
    "numero = int(input(\"Digite um número:\"))\n",
    "if numero >=0:\n",
    "    print(\"O número é positivo\")\n",
    "print(\"Fim\")"
   ]
  },
  {
   "cell_type": "code",
   "execution_count": 76,
   "id": "91f06ad4-a2f3-47e3-8a82-9f6e053f6f24",
   "metadata": {},
   "outputs": [
    {
     "name": "stdin",
     "output_type": "stream",
     "text": [
      "Digite o primeiro número: 2\n",
      "Digite o segundo número: 3\n"
     ]
    },
    {
     "name": "stdout",
     "output_type": "stream",
     "text": [
      "O segundo número é maior que o primeiro número \n"
     ]
    }
   ],
   "source": [
    "# Faça um Programa que peça dois números e imprima o maior deles.\n",
    "\n",
    "# minha resolução:\n",
    "numero1 = float(input(\"Digite o primeiro número:\"))\n",
    "numero2 = float(input(\"Digite o segundo número:\"))\n",
    "if numero1 > numero2:\n",
    "    print (\"O primeiro número é maior que o segundo número\")\n",
    "if numero2 > numero1:\n",
    "    print (\"O segundo número é maior que o primeiro número \")\n",
    "if numero1 == numero2:\n",
    "    print (\"Os números são iguais!!!\")"
   ]
  },
  {
   "cell_type": "code",
   "execution_count": 82,
   "id": "e122d374-5fc3-4aef-acfc-5b1dd2a4b34b",
   "metadata": {},
   "outputs": [
    {
     "name": "stdin",
     "output_type": "stream",
     "text": [
      "Digite o primeiro número: 2\n",
      "Digite o segundo número: 3\n"
     ]
    },
    {
     "name": "stdout",
     "output_type": "stream",
     "text": [
      "3.0 é maior ou igual a 2.0\n"
     ]
    }
   ],
   "source": [
    "# resolução do professor\n",
    "n1 = float(input(\"Digite o primeiro número:\"))\n",
    "n2 = float(input(\"Digite o segundo número:\"))\n",
    "\n",
    "if n1 > n2:\n",
    "    print(n1, \"é maior que\", n2) \n",
    "else:\n",
    "    print(n2, \"é maior ou igual a\", n1)"
   ]
  },
  {
   "cell_type": "code",
   "execution_count": 5,
   "id": "12674693-b054-4b37-9690-78b6fe3bafb1",
   "metadata": {},
   "outputs": [
    {
     "name": "stdin",
     "output_type": "stream",
     "text": [
      "Digite uma letra:  e\n"
     ]
    },
    {
     "name": "stdout",
     "output_type": "stream",
     "text": [
      "A letra digitada é uma vogal!\n"
     ]
    }
   ],
   "source": [
    "# Faça um programa que identifique se é consoante ou vogal\n",
    "\n",
    "letra = input (\"Digite uma letra: \")\n",
    "if letra == 'a' or letra == 'A':\n",
    "    print (\"A letra digitada é uma vogal!\")\n",
    "elif letra == 'e' or letra == 'E':\n",
    "    print (\"A letra digitada é uma vogal!\")\n",
    "elif letra == 'i' or letra == 'I':\n",
    "    print (\"A letra digitada é uma vogal!\")\n",
    "elif letra == 'o' or letra == 'O':\n",
    "    print (\"A letra digitada é uma vogal!\")\n",
    "elif letra == 'u' or letra == 'U':\n",
    "    print (\"A letra digitada é uma vogal!\")\n",
    "else:\n",
    "    print(\"A letra digitada é uma consoante!\")"
   ]
  },
  {
   "cell_type": "code",
   "execution_count": 9,
   "id": "30acfae7-5094-4873-8a89-09b8c7d75a19",
   "metadata": {},
   "outputs": [
    {
     "name": "stdin",
     "output_type": "stream",
     "text": [
      "Digite uma letra: a\n"
     ]
    },
    {
     "name": "stdout",
     "output_type": "stream",
     "text": [
      "A letra é uma vogal!\n"
     ]
    }
   ],
   "source": [
    "# Código otimizado por uma LLM\n",
    "\n",
    "letra = input (\"Digite uma letra:\").upper()\n",
    "if letra in \"AEIOU\":\n",
    "    print (\"A letra é uma vogal!\")\n",
    "else:\n",
    "    print(\"A letra é uma consoante\")"
   ]
  },
  {
   "cell_type": "code",
   "execution_count": 17,
   "id": "4c9cdf51-e64d-443f-afa1-1c4b96016383",
   "metadata": {},
   "outputs": [
    {
     "name": "stdin",
     "output_type": "stream",
     "text": [
      "Entre com um número: 7\n"
     ]
    },
    {
     "name": "stdout",
     "output_type": "stream",
     "text": [
      "7   é impar positivo\n"
     ]
    }
   ],
   "source": [
    "#Faça um programa que identifique se o número é positivo ou negativo e se é par ou impar\n",
    "\n",
    "n = int(input(\"Entre com um número:\"))\n",
    "if (n >= 0):\n",
    "    if (n % 2) == 0:\n",
    "        print(n, \"é par positivo\")\n",
    "    else:\n",
    "        print(n,\"  é impar positivo\")\n",
    "else:\n",
    "    if (abs(n) % 2) == 0:\n",
    "        print(n, \"é par negativo\")\n",
    "    else:\n",
    "        print(n, \"é impar negativo\")\n",
    "\n"
   ]
  },
  {
   "cell_type": "code",
   "execution_count": 57,
   "id": "eba906db-121b-432e-bec7-a9fc6d63afdd",
   "metadata": {},
   "outputs": [
    {
     "name": "stdin",
     "output_type": "stream",
     "text": [
      "Digite a idade do nadador: 31\n"
     ]
    },
    {
     "name": "stdout",
     "output_type": "stream",
     "text": [
      "Categoria Sênior\n"
     ]
    }
   ],
   "source": [
    "#Faça um programa que receba a idade de um nadador e mostre a sua categoria usando as regras a seguir:\n",
    "\n",
    "idade = int(input(\"Digite a idade do nadador:\"))\n",
    "if idade < 5:\n",
    "    print (\"Categoria inexistente\")\n",
    "    \n",
    "elif idade <= 7:\n",
    "    print(\"Categoria Infantil\")\n",
    "elif idade <=10:\n",
    "    print(\"Categoria Juvenil\")\n",
    "elif idade <=15:\n",
    "    print(\"Categoria Adolescente\")\n",
    "elif idade <=30:\n",
    "    print(\"Categoria Adulto\")\n",
    "else:\n",
    "    print(\"Categoria Sênior\")\n"
   ]
  },
  {
   "cell_type": "code",
   "execution_count": null,
   "id": "552601b0-7014-4ce5-8dea-652456245c57",
   "metadata": {},
   "outputs": [],
   "source": []
  }
 ],
 "metadata": {
  "kernelspec": {
   "display_name": "Python [conda env:anaconda3]",
   "language": "python",
   "name": "conda-env-anaconda3-py"
  },
  "language_info": {
   "codemirror_mode": {
    "name": "ipython",
    "version": 3
   },
   "file_extension": ".py",
   "mimetype": "text/x-python",
   "name": "python",
   "nbconvert_exporter": "python",
   "pygments_lexer": "ipython3",
   "version": "3.13.5"
  }
 },
 "nbformat": 4,
 "nbformat_minor": 5
}
