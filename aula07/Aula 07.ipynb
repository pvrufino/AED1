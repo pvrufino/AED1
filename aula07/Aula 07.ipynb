{
 "cells": [
  {
   "cell_type": "code",
   "execution_count": 3,
   "id": "ddedc3de-5a7c-48b1-acdd-b13324234dbd",
   "metadata": {},
   "outputs": [
    {
     "name": "stdout",
     "output_type": "stream",
     "text": [
      "Olá\n",
      "Olá\n",
      "Olá\n",
      "Olá\n",
      "Olá\n"
     ]
    }
   ],
   "source": [
    "for _ in range (1,6):\n",
    "    print (\"Olá\")"
   ]
  },
  {
   "cell_type": "code",
   "execution_count": 9,
   "id": "d9917b49-6004-4de6-a53c-0ef7cd4d0dcb",
   "metadata": {},
   "outputs": [
    {
     "name": "stdout",
     "output_type": "stream",
     "text": [
      "10\n",
      "9\n",
      "8\n",
      "7\n",
      "6\n",
      "5\n",
      "4\n",
      "3\n",
      "2\n",
      "1\n",
      "FIM\n"
     ]
    }
   ],
   "source": [
    "#Contagem Regressiva de 10 a 1\n",
    "\n",
    "for i in range(10, 0, -1):\n",
    "    print(i)\n",
    "print (\"FIM\")"
   ]
  },
  {
   "cell_type": "code",
   "execution_count": 25,
   "id": "980c5e2f-60da-4961-ba9c-65b8102a9448",
   "metadata": {},
   "outputs": [
    {
     "name": "stdin",
     "output_type": "stream",
     "text": [
      "Digite o valor de n: 6\n"
     ]
    },
    {
     "name": "stdout",
     "output_type": "stream",
     "text": [
      "O fatorial de 6 é igual a  720\n"
     ]
    }
   ],
   "source": [
    "#resolvido em sala\n",
    "\n",
    "n = int(input(\"Digite o valor de n:\"))\n",
    "fat = 1\n",
    "if n <0:\n",
    "    print(\"Fatorial não existe!\")\n",
    "elif n == 0:\n",
    "    print(\"Fatorial é igual 1!\")\n",
    "else:\n",
    "    for i in range (1, n+1):\n",
    "        fat = fat * i\n",
    "print (\"O fatorial de\", n, \"é igual a \", fat)\n",
    "        \n"
   ]
  },
  {
   "cell_type": "code",
   "execution_count": 36,
   "id": "9f04aabc-00c9-4531-b68a-d7c67df212f7",
   "metadata": {},
   "outputs": [
    {
     "name": "stdin",
     "output_type": "stream",
     "text": [
      "Entre com o número: 0\n"
     ]
    },
    {
     "name": "stdout",
     "output_type": "stream",
     "text": [
      "Fatorial de zero é igual a 1\n",
      "O fatorial de 0 é igual a 1\n"
     ]
    }
   ],
   "source": [
    "#slide página 20\n",
    "\n",
    "numero = int(input(\"Entre com o número:\"))\n",
    "fatorial = 1\n",
    "if numero < 0:\n",
    "    print(\"Fatorial não existe\")\n",
    "elif numero ==0:\n",
    "    print(\"Fatorial de zero é igual a 1\")\n",
    "else:\n",
    "    for i in range (1, n+1):\n",
    "        fatorial = fatorial * i\n",
    "print(\"O fatorial de\", numero, \"é igual a\", fatorial)"
   ]
  },
  {
   "cell_type": "code",
   "execution_count": 3,
   "id": "7e04114e-1125-4a00-a52d-0f76f9c6b6b9",
   "metadata": {},
   "outputs": [
    {
     "name": "stdin",
     "output_type": "stream",
     "text": [
      "Digite o número da tabuada: -4\n"
     ]
    },
    {
     "name": "stdout",
     "output_type": "stream",
     "text": [
      "1 x -4 = -4\n",
      "2 x -4 = -8\n",
      "3 x -4 = -12\n",
      "4 x -4 = -16\n",
      "5 x -4 = -20\n",
      "6 x -4 = -24\n",
      "7 x -4 = -28\n",
      "8 x -4 = -32\n",
      "9 x -4 = -36\n",
      "10 x -4 = -40\n"
     ]
    }
   ],
   "source": [
    "#tabuada\n",
    "\n",
    "n = int(input(\"Digite o número da tabuada:\"))\n",
    "i = 1\n",
    "while i < 11:\n",
    "    print(i,\"x\", n,\"=\", i*n)\n",
    "    i = i + 1\n",
    "    "
   ]
  },
  {
   "cell_type": "code",
   "execution_count": null,
   "id": "d46cd26e-8549-476e-9aff-53a31f915568",
   "metadata": {},
   "outputs": [
    {
     "name": "stdin",
     "output_type": "stream",
     "text": [
      "Entre com o numero:  7\n"
     ]
    }
   ],
   "source": [
    "numero = int(input(\"Entre com o numero: \"))\n",
    "fatorial = 1\n",
    "if numero < 0:\n",
    "     print(\"Fatorial não existe!\")\n",
    "elif numero == 0:\n",
    "     print(\"Fatorial de Zero é igual a 1\")\n",
    "else:\n",
    "     for i in range(1, numero+1):\n",
    "         fatorial = fatorial*i\n",
    "print(\"O fatorial de \", numero, \" é igual a \", fatorial)"
   ]
  },
  {
   "cell_type": "code",
   "execution_count": 1,
   "id": "97b7651f-1f1c-458f-b58c-ce3c74fb2a56",
   "metadata": {},
   "outputs": [
    {
     "name": "stdin",
     "output_type": "stream",
     "text": [
      "Entre com um valor de <-1 para sair>:  2\n",
      "Entre com um valor de <-1 para sair>:  2\n",
      "Entre com um valor de <-1 para sair>:  2\n",
      "Entre com um valor de <-1 para sair>:  2\n",
      "Entre com um valor de <-1 para sair>:  2\n",
      "Entre com um valor de <-1 para sair>:  2\n",
      "Entre com um valor de <-1 para sair>:  2\n",
      "Entre com um valor de <-1 para sair>:  -1\n"
     ]
    },
    {
     "name": "stdout",
     "output_type": "stream",
     "text": [
      "A média dos números é igual a:  2.0\n"
     ]
    }
   ],
   "source": [
    "soma = 0\n",
    "qtd = 0\n",
    "numero = 0\n",
    "while numero !=-1:\n",
    "    numero = int(input(\"Entre com um valor de <-1 para sair>: \"))\n",
    "    if (numero != -1):\n",
    "        soma = soma + numero\n",
    "        qtd = qtd + 1\n",
    "media = soma / qtd\n",
    "print (\"A média dos números é igual a: \", media)"
   ]
  },
  {
   "cell_type": "code",
   "execution_count": 7,
   "id": "ecfb6c02-aa3c-4011-8241-d65e46b02eb9",
   "metadata": {},
   "outputs": [
    {
     "name": "stdin",
     "output_type": "stream",
     "text": [
      "Entre com um valor <-1 para sair>:  1\n",
      "Entre com um valor <-1 para sair>:  3\n",
      "Entre com um valor <-1 para sair>:  4\n",
      "Entre com um valor <-1 para sair>:  6\n",
      "Entre com um valor <-1 para sair>:  7[\n"
     ]
    },
    {
     "ename": "ValueError",
     "evalue": "invalid literal for int() with base 10: '7['",
     "output_type": "error",
     "traceback": [
      "\u001b[1;31m---------------------------------------------------------------------------\u001b[0m",
      "\u001b[1;31mValueError\u001b[0m                                Traceback (most recent call last)",
      "Cell \u001b[1;32mIn[7], line 5\u001b[0m\n\u001b[0;32m      3\u001b[0m numero \u001b[38;5;241m=\u001b[39m \u001b[38;5;241m0\u001b[39m\n\u001b[0;32m      4\u001b[0m \u001b[38;5;28;01mwhile\u001b[39;00m numero \u001b[38;5;241m!=\u001b[39m \u001b[38;5;241m-\u001b[39m\u001b[38;5;241m1\u001b[39m:\n\u001b[1;32m----> 5\u001b[0m     numero \u001b[38;5;241m=\u001b[39m \u001b[38;5;28mint\u001b[39m(\u001b[38;5;28minput\u001b[39m(\u001b[38;5;124m\"\u001b[39m\u001b[38;5;124mEntre com um valor <-1 para sair>: \u001b[39m\u001b[38;5;124m\"\u001b[39m))\n\u001b[0;32m      6\u001b[0m     \u001b[38;5;28;01mif\u001b[39;00m (numero \u001b[38;5;241m!=\u001b[39m \u001b[38;5;241m-\u001b[39m\u001b[38;5;241m1\u001b[39m):\n\u001b[0;32m      7\u001b[0m         soma \u001b[38;5;241m=\u001b[39m soma \u001b[38;5;241m+\u001b[39m numero\n",
      "\u001b[1;31mValueError\u001b[0m: invalid literal for int() with base 10: '7['"
     ]
    }
   ],
   "source": [
    "soma = 0\n",
    "qtd = 0\n",
    "numero = 0\n",
    "while numero != -1:\n",
    "    numero = int(input(\"Entre com um valor <-1 para sair>: \"))\n",
    "    if (numero != -1):\n",
    "        soma = soma + numero\n",
    "        qtd = qtd+1\n",
    "media = soma / qtd\n",
    "print(\"A media dos números é igual a: \", media)"
   ]
  },
  {
   "cell_type": "code",
   "execution_count": 9,
   "id": "f9148988-0cfe-4b68-a0c7-1748d2679984",
   "metadata": {},
   "outputs": [
    {
     "name": "stdout",
     "output_type": "stream",
     "text": [
      "O ultimo valor de n é  0\n",
      "O ultimo valor de n é  1\n",
      "O ultimo valor de n é  2\n",
      "O ultimo valor de n é  3\n",
      "O ultimo valor de n é  4\n",
      "O ultimo valor de n é  5\n"
     ]
    }
   ],
   "source": [
    "n=0\n",
    "while True:\n",
    "    print(\"O ultimo valor de n é \", n)\n",
    "    n = n + 1\n",
    "    if n>5:\n",
    "        break"
   ]
  },
  {
   "cell_type": "code",
   "execution_count": null,
   "id": "c1e1c8eb-e886-4d54-967a-856ac1cf2087",
   "metadata": {},
   "outputs": [
    {
     "name": "stdout",
     "output_type": "stream",
     "text": [
      "Pessoa 1:\n"
     ]
    }
   ],
   "source": [
    "# Faça um algoritmo que leia o valor do peso e da altura de 5 pessoas. Ao final, \n",
    "#o algoritmo deve mostrar:- O peso médio- A altura média- O maior e o menor IMC\n",
    "\n",
    "#gerado pelo chatgpt\n",
    "\n",
    "# Inicializando variáveis para acumular os dados\n",
    "soma_peso = 0\n",
    "soma_altura = 0\n",
    "imcs = []\n",
    "\n",
    "for i in range(5):\n",
    "    print(f\"Pessoa {i+1}:\")\n",
    "    peso = float(input(\"Digite o peso (kg): \"))\n",
    "    altura = float(input(\"Digite a altura (m): \"))\n",
    "    \n",
    "    soma_peso += peso\n",
    "    soma_altura += altura\n",
    "    \n",
    "    imc = peso / (altura ** 2)\n",
    "    imcs.append(imc)\n",
    "\n",
    "# Calculando médias\n",
    "peso_medio = soma_peso / 5\n",
    "altura_medio = soma_altura / 5\n",
    "\n",
    "# Encontrando maior e menor IMC\n",
    "maior_imc = max(imcs)\n",
    "menor_imc = min(imcs)\n",
    "\n",
    "# Mostrando os resultados\n",
    "print(\"\\nResultados:\")\n",
    "print(f\"Peso médio: {peso_medio:.2f} kg\")\n",
    "print(f\"Altura média: {altura_medio:.2f} m\")\n",
    "print(f\"Maior IMC: {maior_imc:.2f}\")\n",
    "print(f\"Menor IMC: {menor_imc:.2f}\")\n"
   ]
  },
  {
   "cell_type": "code",
   "execution_count": null,
   "id": "0e0129bb-0479-40b6-80f5-ad07a824cf39",
   "metadata": {},
   "outputs": [],
   "source": [
    "#com for\n",
    "\n",
    "maior_imc = 0\n",
    "menor_imc= 100\n",
    "soma_a = 0\n",
    "soma_p = 0\n",
    "for i in range (1, 6 ):\n",
    "    peso = float(input(\"Digite o peso(kg):\"))\n",
    "    soma_p = soma_p + peso\n",
    "    altura = float (input(\"Digite a altura(metros):\"))\n",
    "    soma_a = soma_a + altura\n",
    "    imc = peso / (altura **2)\n",
    "    if imc < menor_imc:\n",
    "        menor_imc = imc\n",
    "    if imc > maior_imc:\n",
    "        maior_imc = imc\n",
    "    print(\"imc = \", imc)\n",
    "media_p = soma_p / 5\n",
    "media_a = soma_a / 5\n",
    "print(\"O peso médio é: \", media_p)\n",
    "print(\"A altura média é:\", media_a)\n",
    "print(\"O menor IMC é:\", menor_imc)\n",
    "print(\"O maior IMC é:\", maior_imc)"
   ]
  },
  {
   "cell_type": "code",
   "execution_count": null,
   "id": "a8f593a7-23f4-41b6-a4b7-f463a4697111",
   "metadata": {},
   "outputs": [],
   "source": []
  }
 ],
 "metadata": {
  "kernelspec": {
   "display_name": "Python [conda env:base] *",
   "language": "python",
   "name": "conda-base-py"
  },
  "language_info": {
   "codemirror_mode": {
    "name": "ipython",
    "version": 3
   },
   "file_extension": ".py",
   "mimetype": "text/x-python",
   "name": "python",
   "nbconvert_exporter": "python",
   "pygments_lexer": "ipython3",
   "version": "3.12.7"
  }
 },
 "nbformat": 4,
 "nbformat_minor": 5
}
