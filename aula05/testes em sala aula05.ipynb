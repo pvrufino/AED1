{
 "cells": [
  {
   "cell_type": "code",
   "execution_count": 1,
   "id": "4a048266-2eb2-48c3-970f-ec44a59e802a",
   "metadata": {},
   "outputs": [
    {
     "name": "stdout",
     "output_type": "stream",
     "text": [
      "Olá\n"
     ]
    }
   ],
   "source": [
    "print(\"Olá\")"
   ]
  },
  {
   "cell_type": "code",
   "execution_count": 5,
   "id": "ff9ed12c-fc8d-4f63-aa9c-57b245539920",
   "metadata": {},
   "outputs": [],
   "source": [
    "import pandas as pd\n",
    "import numpy as np\n",
    "import seaborn as sns\n",
    "import matplotlib.pyplot as plt"
   ]
  },
  {
   "cell_type": "code",
   "execution_count": null,
   "id": "edc3fc7f-47aa-4f1c-8756-0ee937edc198",
   "metadata": {},
   "outputs": [],
   "source": []
  },
  {
   "cell_type": "code",
   "execution_count": null,
   "id": "4ed713b7-618b-4b3d-a588-f67d63a0a33c",
   "metadata": {},
   "outputs": [],
   "source": [
    "url = 'Titanic_train.csv'\n",
    "data = pd.read_csv(url)"
   ]
  }
 ],
 "metadata": {
  "kernelspec": {
   "display_name": "Python [conda env:base] *",
   "language": "python",
   "name": "conda-base-py"
  },
  "language_info": {
   "codemirror_mode": {
    "name": "ipython",
    "version": 3
   },
   "file_extension": ".py",
   "mimetype": "text/x-python",
   "name": "python",
   "nbconvert_exporter": "python",
   "pygments_lexer": "ipython3",
   "version": "3.12.7"
  }
 },
 "nbformat": 4,
 "nbformat_minor": 5
}
