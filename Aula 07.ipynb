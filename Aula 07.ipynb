{
 "cells": [
  {
   "cell_type": "code",
   "execution_count": 3,
   "id": "ddedc3de-5a7c-48b1-acdd-b13324234dbd",
   "metadata": {},
   "outputs": [
    {
     "name": "stdout",
     "output_type": "stream",
     "text": [
      "Olá\n",
      "Olá\n",
      "Olá\n",
      "Olá\n",
      "Olá\n"
     ]
    }
   ],
   "source": [
    "for _ in range (1,6):\n",
    "    print (\"Olá\")"
   ]
  },
  {
   "cell_type": "code",
   "execution_count": 9,
   "id": "d9917b49-6004-4de6-a53c-0ef7cd4d0dcb",
   "metadata": {},
   "outputs": [
    {
     "name": "stdout",
     "output_type": "stream",
     "text": [
      "10\n",
      "9\n",
      "8\n",
      "7\n",
      "6\n",
      "5\n",
      "4\n",
      "3\n",
      "2\n",
      "1\n",
      "FIM\n"
     ]
    }
   ],
   "source": [
    "#Contagem Regressiva de 10 a 1\n",
    "\n",
    "for i in range(10, 0, -1):\n",
    "    print(i)\n",
    "print (\"FIM\")"
   ]
  },
  {
   "cell_type": "code",
   "execution_count": 25,
   "id": "980c5e2f-60da-4961-ba9c-65b8102a9448",
   "metadata": {},
   "outputs": [
    {
     "name": "stdin",
     "output_type": "stream",
     "text": [
      "Digite o valor de n: 6\n"
     ]
    },
    {
     "name": "stdout",
     "output_type": "stream",
     "text": [
      "O fatorial de 6 é igual a  720\n"
     ]
    }
   ],
   "source": [
    "#resolvido em sala\n",
    "\n",
    "n = int(input(\"Digite o valor de n:\"))\n",
    "fat = 1\n",
    "if n <0:\n",
    "    print(\"Fatorial não existe!\")\n",
    "elif n == 0:\n",
    "    print(\"Fatorial é igual 1!\")\n",
    "else:\n",
    "    for i in range (1, n+1):\n",
    "        fat = fat * i\n",
    "print (\"O fatorial de\", n, \"é igual a \", fat)\n",
    "        \n"
   ]
  },
  {
   "cell_type": "code",
   "execution_count": 36,
   "id": "9f04aabc-00c9-4531-b68a-d7c67df212f7",
   "metadata": {},
   "outputs": [
    {
     "name": "stdin",
     "output_type": "stream",
     "text": [
      "Entre com o número: 0\n"
     ]
    },
    {
     "name": "stdout",
     "output_type": "stream",
     "text": [
      "Fatorial de zero é igual a 1\n",
      "O fatorial de 0 é igual a 1\n"
     ]
    }
   ],
   "source": [
    "#slide página 20\n",
    "\n",
    "numero = int(input(\"Entre com o número:\"))\n",
    "fatorial = 1\n",
    "if numero < 0:\n",
    "    print(\"Fatorial não existe\")\n",
    "elif numero ==0:\n",
    "    print(\"Fatorial de zero é igual a 1\")\n",
    "else:\n",
    "    for i in range (1, n+1):\n",
    "        fatorial = fatorial * i\n",
    "print(\"O fatorial de\", numero, \"é igual a\", fatorial)"
   ]
  },
  {
   "cell_type": "code",
   "execution_count": null,
   "id": "7e04114e-1125-4a00-a52d-0f76f9c6b6b9",
   "metadata": {},
   "outputs": [],
   "source": []
  }
 ],
 "metadata": {
  "kernelspec": {
   "display_name": "Python [conda env:base] *",
   "language": "python",
   "name": "conda-base-py"
  },
  "language_info": {
   "codemirror_mode": {
    "name": "ipython",
    "version": 3
   },
   "file_extension": ".py",
   "mimetype": "text/x-python",
   "name": "python",
   "nbconvert_exporter": "python",
   "pygments_lexer": "ipython3",
   "version": "3.12.7"
  }
 },
 "nbformat": 4,
 "nbformat_minor": 5
}
